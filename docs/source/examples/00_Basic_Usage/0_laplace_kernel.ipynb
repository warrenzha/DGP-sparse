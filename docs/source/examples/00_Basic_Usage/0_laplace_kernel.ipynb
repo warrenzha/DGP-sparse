{
 "cells": [
  {
   "metadata": {},
   "cell_type": "markdown",
   "source": "# Laplace Kernel"
  },
  {
   "metadata": {},
   "cell_type": "code",
   "execution_count": 1,
   "source": [
    "import torch\n",
    "from dmgp.kernels.laplace_kernel import LaplaceProductKernel, LaplaceAdditiveKernel"
   ],
   "outputs": []
  },
  {
   "metadata": {},
   "cell_type": "code",
   "execution_count": 2,
   "source": [
    "n = 2 # the size of x1\n",
    "m = 4 # the size of x2\n",
    "d = 1 # dimension of x1, x2\n",
    "x1 = torch.randn(n,d)\n",
    "x2 = torch.randn(m,d)\n",
    "lengthscale = torch.randn(d)\n",
    "print(x1)\n",
    "print(x2)"
   ],
   "outputs": []
  },
  {
   "metadata": {},
   "cell_type": "code",
   "execution_count": 3,
   "source": [
    "kernel = LaplaceProductKernel(lengthscale=1.)\n",
    "kernel(x1=x1,x2=x2)"
   ],
   "outputs": []
  },
  {
   "metadata": {},
   "cell_type": "code",
   "execution_count": 4,
   "source": [
    "x1 = torch.randn(3,10,2)\n",
    "x2 = torch.randn(6,2)\n",
    "lengthscale = torch.randn(2)\n",
    "kernel = LaplaceProductKernel(lengthscale=1.)\n",
    "kernel(x1=x1,x2=x2).shape"
   ],
   "outputs": []
  }
 ],
 "metadata": {
  "kernelspec": {
   "display_name": "env_sparse-dgp",
   "language": "python",
   "name": "python3"
  },
  "language_info": {
   "codemirror_mode": {
    "name": "ipython",
    "version": 3
   },
   "file_extension": ".py",
   "mimetype": "text/x-python",
   "name": "python",
   "nbconvert_exporter": "python",
   "pygments_lexer": "ipython3",
   "version": "3.9.18"
  }
 },
 "nbformat": 4,
 "nbformat_minor": 2
}
