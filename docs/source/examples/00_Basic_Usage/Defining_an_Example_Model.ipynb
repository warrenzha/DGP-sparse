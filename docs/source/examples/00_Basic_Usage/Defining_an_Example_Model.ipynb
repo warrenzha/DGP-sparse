{
 "cells": [
  {
   "metadata": {},
   "cell_type": "markdown",
   "source": [
    "# Defining a custom example model in DMGP\n",
    "In this notebook, we are looking at how to define a custom model in DMGP. As an example, we consider a 2-layer sparse DGP model for a regression task. The model consists of two layers, each with a level-3 sparse grid design."
   ],
   "id": "1b1e2221e44c7cac"
  },
  {
   "metadata": {
    "ExecuteTime": {
     "end_time": "2024-07-22T21:28:34.283201Z",
     "start_time": "2024-07-22T21:28:33.475585Z"
    }
   },
   "cell_type": "code",
   "source": [
    "import torch\n",
    "import torch.nn as nn\n",
    "from dmgp.layers.linear import LinearFlipout\n",
    "from dmgp.layers.activation import TMK"
   ],
   "id": "initial_id",
   "execution_count": 1,
   "outputs": []
  },
  {
   "metadata": {},
   "cell_type": "markdown",
   "source": [
    "## Defining a 2-layer DMGP Model\n",
    "\n",
    "In the next cell, we define our simple exact DMGP for regression. The model consists of two layers, each with level-3 sparse grid design. "
   ],
   "id": "7767bd7948758eb5"
  },
  {
   "metadata": {
    "ExecuteTime": {
     "end_time": "2024-07-22T21:28:34.568199Z",
     "start_time": "2024-07-22T21:28:34.284296Z"
    }
   },
   "cell_type": "code",
   "source": [
    "from dmgp.utils.sparse_design.design_class import HyperbolicCrossDesign\n",
    "from dmgp.kernels.laplace_kernel import LaplaceProductKernel\n",
    "\n",
    "# Define a 2-layer DMGP model for regression\n",
    "class DMGP_regression(nn.Module):\n",
    "    def __init__(self, input_dim, output_dim, design_class, kernel):\n",
    "        super(DMGP_regression, self).__init__()\n",
    "        \n",
    "        # 1st layer of DGP: input:[n, input_dim] size tensor, output:[n, 8] size tensor\n",
    "        self.tmk1 = TMK(in_features=input_dim, n_level=3, design_class=design_class, kernel=kernel)\n",
    "        self.fc1 = LinearFlipout(self.tmk1.out_features, 7)\n",
    "\n",
    "        # 2nd layer of DGP: input:[n, 8] size tensor, output:[n, output_dim] size tensor\n",
    "        self.tmk2 = TMK(in_features=7, n_level=3, design_class=design_class, kernel=kernel)\n",
    "        self.fc2 = LinearFlipout(in_features=self.tmk2.out_features, out_features=output_dim)\n",
    "\n",
    "    def forward(self, x):\n",
    "        kl_sum = 0\n",
    "        x = self.tmk1(x)\n",
    "        x, kl = self.fc1(x)\n",
    "        kl_sum += kl\n",
    "        x = self.tmk2(x)\n",
    "        x, kl = self.fc2(x)\n",
    "        kl_sum += kl\n",
    "        return torch.squeeze(x), kl_sum\n",
    "    \n",
    "model = DMGP_regression(input_dim=1, \n",
    "                        output_dim=1, \n",
    "                        design_class=HyperbolicCrossDesign, \n",
    "                        kernel=LaplaceProductKernel(1.))"
   ],
   "id": "5f19e34aab5634b8",
   "execution_count": 2,
   "outputs": []
  },
  {
   "metadata": {},
   "cell_type": "markdown",
   "source": [
    "## Viewing model hyperparameters\n",
    "Let's take a look at the model parameters. By \"parameters\", here I mean explicitly objects of type `torch.nn.Parameter` that will have gradients filled in by autograd. To access these, we use `model.state_dict()` which returns a dictionary of the model's parameters."
   ],
   "id": "26693bfcc7ef2595"
  },
  {
   "metadata": {
    "ExecuteTime": {
     "end_time": "2024-07-22T21:28:34.570876Z",
     "start_time": "2024-07-22T21:28:34.568992Z"
    }
   },
   "cell_type": "code",
   "source": "model_params = model.state_dict()",
   "id": "37bb1477a9ac8694",
   "execution_count": 3,
   "outputs": []
  },
  {
   "metadata": {},
   "cell_type": "markdown",
   "source": [
    "## Counting the number of parameters\n",
    "We can count the total number of parameters in the model by counting the number of parameters in each layer."
   ],
   "id": "28541c16e649131"
  },
  {
   "metadata": {
    "ExecuteTime": {
     "end_time": "2024-07-22T21:28:34.576115Z",
     "start_time": "2024-07-22T21:28:34.571765Z"
    }
   },
   "cell_type": "code",
   "source": [
    "def parameter_count(model):\n",
    "    all_parameters = list(model.parameters())\n",
    "    layer_parameters=[len(i) for i in all_parameters]\n",
    "    print(layer_parameters)\n",
    "    print(\"Total number of parameters in the network: \", sum(layer_parameters))\n",
    "    return sum(layer_parameters)\n",
    "\n",
    "parameter_count(model)"
   ],
   "id": "5cc00477ad42c55",
   "execution_count": 4,
   "outputs": []
  },
  {
   "metadata": {},
   "cell_type": "markdown",
   "source": [
    "## Viewing model architecture\n",
    "We can also print the model architecture by simply printing the model object."
   ],
   "id": "fd71e97c684843a4"
  },
  {
   "metadata": {
    "ExecuteTime": {
     "end_time": "2024-07-22T21:28:34.579251Z",
     "start_time": "2024-07-22T21:28:34.577614Z"
    }
   },
   "cell_type": "code",
   "source": "print(model)",
   "id": "87662ff606111482",
   "execution_count": 5,
   "outputs": []
  },
  {
   "metadata": {},
   "cell_type": "markdown",
   "source": [
    "## Saving Model State\n",
    "The state dictionary above represents all trainable parameters in the model. We can save this state dictionary to a file and load it back later."
   ],
   "id": "9067fbe791f59fbb"
  },
  {
   "metadata": {
    "ExecuteTime": {
     "end_time": "2024-07-22T21:28:34.584027Z",
     "start_time": "2024-07-22T21:28:34.579900Z"
    }
   },
   "cell_type": "code",
   "source": "torch.save(model.state_dict(), 'model_state.pth')",
   "id": "eb48a81cc48b70e6",
   "execution_count": 6,
   "outputs": []
  },
  {
   "metadata": {},
   "cell_type": "markdown",
   "source": [
    "## Loading Model State\n",
    "Next, we load this state in to a new model and demonstrate that the parameters were updated correctly."
   ],
   "id": "707a8dc6953f7f5d"
  },
  {
   "metadata": {
    "ExecuteTime": {
     "end_time": "2024-07-22T21:28:34.852883Z",
     "start_time": "2024-07-22T21:28:34.584684Z"
    }
   },
   "cell_type": "code",
   "source": [
    "state_dict = torch.load('model_state.pth')\n",
    "model = DMGP_regression(input_dim=1, \n",
    "                        output_dim=1, \n",
    "                        design_class=HyperbolicCrossDesign, \n",
    "                        kernel=LaplaceProductKernel(1.))\n",
    "model.load_state_dict(state_dict)"
   ],
   "id": "c2335f37d55188c9",
   "execution_count": 7,
   "outputs": []
  },
  {
   "metadata": {
    "ExecuteTime": {
     "end_time": "2024-07-22T21:28:34.863498Z",
     "start_time": "2024-07-22T21:28:34.853717Z"
    }
   },
   "cell_type": "code",
   "source": "model.state_dict()",
   "id": "73ce26622507dcec",
   "execution_count": 8,
   "outputs": []
  },
  {
   "metadata": {},
   "cell_type": "markdown",
   "source": "See our [documentation](https://sparse-dgp.readthedocs.io/en/latest/) for more information on how to use the library.",
   "id": "1ca660770bc27323"
  }
 ],
 "metadata": {
  "kernelspec": {
   "display_name": "Python 3",
   "language": "python",
   "name": "python3"
  },
  "language_info": {
   "codemirror_mode": {
    "name": "ipython",
    "version": 2
   },
   "file_extension": ".py",
   "mimetype": "text/x-python",
   "name": "python",
   "nbconvert_exporter": "python",
   "pygments_lexer": "ipython2",
   "version": "2.7.6"
  }
 },
 "nbformat": 4,
 "nbformat_minor": 5
}
