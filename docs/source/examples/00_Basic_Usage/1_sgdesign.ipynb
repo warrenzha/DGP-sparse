{
 "cells": [
  {
   "metadata": {},
   "cell_type": "markdown",
   "source": "# Design Class of Tensor Markov GP"
  },
  {
   "metadata": {
    "ExecuteTime": {
     "end_time": "2024-07-22T21:23:58.797694Z",
     "start_time": "2024-07-22T21:23:58.794084Z"
    }
   },
   "cell_type": "code",
   "source": [
    "import torch\n",
    "from dmgp.utils.sparse_design.design_class import SparseGridDesign, n_sum_k\n",
    "from dmgp.utils.sparse_design.design_class import HyperbolicCrossDesign"
   ],
   "execution_count": 85,
   "outputs": []
  },
  {
   "cell_type": "code",
   "metadata": {
    "ExecuteTime": {
     "end_time": "2024-07-22T21:24:00.600483Z",
     "start_time": "2024-07-22T21:24:00.591530Z"
    }
   },
   "source": [
    "# test Hyperbolic Cross Design\n",
    "design_class = HyperbolicCrossDesign\n",
    "deg = 3\n",
    "input_bd = [0,1]\n",
    "\n",
    "print( design_class(dyadic_sort=True, return_neighbors=True)(deg=deg, input_lb=0, input_ub=1).points )\n",
    "print( design_class(dyadic_sort=True, return_neighbors=True)(deg=deg, input_lb=0, input_ub=1).lefts)\n",
    "print( design_class(dyadic_sort=True, return_neighbors=True)(deg=deg, input_lb=0, input_ub=1).rights )\n",
    "print( design_class(dyadic_sort=True, return_neighbors=True)(deg=deg, input_lb=0, input_ub=1).indices_sort )"
   ],
   "execution_count": 86,
   "outputs": []
  },
  {
   "cell_type": "code",
   "metadata": {
    "ExecuteTime": {
     "end_time": "2024-07-22T21:24:02.665156Z",
     "start_time": "2024-07-22T21:24:02.657297Z"
    }
   },
   "source": [
    "# initial setting\n",
    "d = 2\n",
    "eta = 4\n",
    "input_lb = 0\n",
    "input_ub = 1\n",
    "design_class = HyperbolicCrossDesign\n",
    "\n",
    "# generate sparse grid design\n",
    "sg = SparseGridDesign(d, eta, input_lb=input_lb, input_ub=input_ub, design_class=design_class).gen_sg(dyadic_sort=True, return_neighbors=True)\n",
    "x_tot = sg.pts_tot\n",
    "id_prt = sg.id_prt # use self.tot_pts[ id_x_prt[t_sum, prt], : ] to extract grid points in each smolyak iter\n",
    "pts_prt = sg.pts_prt # use self.pts_prt[t_sum, prt] to extract a d-dimensional list, each entry is one-dim points forming the sgdesign\n",
    "pts_prt_set = sg.pts_prt_set\n",
    "\n",
    "pts_set = sg.pts_set\n",
    "n_pts = sg.n_pts\n",
    "\n",
    "design_str_prt = sg.design_str_prt\n",
    "\n",
    "\n",
    "indices_prt = sg.indices_prt\n",
    "indices_prt_set = sg.indices_prt_set\n",
    "\n",
    "indices_tot = sg.indices_tot\n",
    "indices_set = sg.indices_set\n",
    "print(n_pts)"
   ],
   "execution_count": 87,
   "outputs": []
  },
  {
   "cell_type": "code",
   "metadata": {
    "ExecuteTime": {
     "end_time": "2024-07-22T21:22:21.999026Z",
     "start_time": "2024-07-22T21:22:21.995072Z"
    }
   },
   "source": [
    "pts_set"
   ],
   "execution_count": 4,
   "outputs": []
  },
  {
   "cell_type": "code",
   "metadata": {
    "ExecuteTime": {
     "end_time": "2024-07-22T21:22:22.003452Z",
     "start_time": "2024-07-22T21:22:22.000521Z"
    }
   },
   "source": [
    "design_str_prt[eta,2][0].points"
   ],
   "execution_count": 5,
   "outputs": []
  },
  {
   "cell_type": "code",
   "metadata": {
    "ExecuteTime": {
     "end_time": "2024-07-22T21:22:22.006490Z",
     "start_time": "2024-07-22T21:22:22.004124Z"
    }
   },
   "source": [
    "pts_prt[eta,2]"
   ],
   "execution_count": 6,
   "outputs": []
  },
  {
   "cell_type": "code",
   "metadata": {
    "ExecuteTime": {
     "end_time": "2024-07-22T21:22:22.009468Z",
     "start_time": "2024-07-22T21:22:22.007151Z"
    }
   },
   "source": [
    "indices_prt[eta,2]"
   ],
   "execution_count": 7,
   "outputs": []
  },
  {
   "cell_type": "code",
   "metadata": {
    "ExecuteTime": {
     "end_time": "2024-07-22T21:22:22.012386Z",
     "start_time": "2024-07-22T21:22:22.010042Z"
    }
   },
   "source": [
    "print(indices_set)\n",
    "\n",
    "indices_select = indices_prt_set[3,1]\n",
    "print(indices_select)"
   ],
   "execution_count": 8,
   "outputs": []
  },
  {
   "cell_type": "code",
   "metadata": {
    "ExecuteTime": {
     "end_time": "2024-07-22T21:22:22.016190Z",
     "start_time": "2024-07-22T21:22:22.013061Z"
    }
   },
   "source": [
    "list_full = [tuple(l) for l in indices_set.tolist()] # [n_u, d] size list of tuple\n",
    "list_select = [tuple(l) for l in indices_select.tolist()] # [n_arrow, d] size list of tuple\n",
    "\n",
    "index_dict = dict((value, idx) for idx,value in enumerate(list_full))\n",
    "index_select = torch.tensor( [index_dict[x] for x in list_select] )\n",
    "index_select"
   ],
   "execution_count": 9,
   "outputs": []
  },
  {
   "cell_type": "code",
   "metadata": {
    "ExecuteTime": {
     "end_time": "2024-07-22T21:22:22.020371Z",
     "start_time": "2024-07-22T21:22:22.016880Z"
    }
   },
   "source": [
    "i = torch.tensor([[0, 1, 2, 0],\n",
    "                   [1, 1, 0, 2]])\n",
    "v = torch.tensor([1, 2, 3, 4], dtype=float)\n",
    "sp_test = torch.sparse_coo_tensor(i, v, [5, 5])\n",
    "a = torch.randn((5,5), dtype=float)\n",
    "print(a)\n",
    "print(sp_test)\n",
    "print(sp_test @ a)"
   ],
   "execution_count": 10,
   "outputs": []
  },
  {
   "cell_type": "code",
   "metadata": {
    "ExecuteTime": {
     "end_time": "2024-07-22T21:22:22.023437Z",
     "start_time": "2024-07-22T21:22:22.021145Z"
    }
   },
   "source": [
    "sp_id = sp_test._indices().T\n",
    "print(sp_id)\n",
    "print(index_select)"
   ],
   "execution_count": 11,
   "outputs": []
  },
  {
   "cell_type": "code",
   "metadata": {
    "ExecuteTime": {
     "end_time": "2024-07-22T21:22:22.026307Z",
     "start_time": "2024-07-22T21:22:22.024097Z"
    }
   },
   "source": [
    "index_select[sp_id]"
   ],
   "execution_count": 12,
   "outputs": []
  },
  {
   "metadata": {
    "ExecuteTime": {
     "end_time": "2024-07-22T21:22:23.739218Z",
     "start_time": "2024-07-22T21:22:23.735795Z"
    }
   },
   "cell_type": "code",
   "source": [
    "sp_test_new = torch.sparse_coo_tensor(index_select[sp_test._indices()], sp_test._values(), [17, 17])\n",
    "sp_test_new"
   ],
   "execution_count": 84,
   "outputs": []
  }
 ],
 "metadata": {
  "kernelspec": {
   "display_name": "env_sparse-dgp",
   "language": "python",
   "name": "python3"
  },
  "language_info": {
   "codemirror_mode": {
    "name": "ipython",
    "version": 3
   },
   "file_extension": ".py",
   "mimetype": "text/x-python",
   "name": "python",
   "nbconvert_exporter": "python",
   "pygments_lexer": "ipython3",
   "version": "3.9.18"
  }
 },
 "nbformat": 4,
 "nbformat_minor": 2
}
