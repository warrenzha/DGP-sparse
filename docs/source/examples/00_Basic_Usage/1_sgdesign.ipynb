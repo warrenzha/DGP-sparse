{
 "cells": [
  {
   "metadata": {},
   "cell_type": "markdown",
   "source": "# Design Class of Tensor Markov GP"
  },
  {
   "metadata": {
    "ExecuteTime": {
     "end_time": "2024-07-22T21:23:58.797694Z",
     "start_time": "2024-07-22T21:23:58.794084Z"
    }
   },
   "cell_type": "code",
   "source": [
    "import torch\n",
    "from dmgp.utils.sparse_design.design_class import SparseGridDesign, n_sum_k\n",
    "from dmgp.utils.sparse_design.design_class import HyperbolicCrossDesign"
   ],
   "outputs": [],
   "execution_count": 85
  },
  {
   "cell_type": "code",
   "metadata": {
    "ExecuteTime": {
     "end_time": "2024-07-22T21:24:00.600483Z",
     "start_time": "2024-07-22T21:24:00.591530Z"
    }
   },
   "source": [
    "# test Hyperbolic Cross Design\n",
    "design_class = HyperbolicCrossDesign\n",
    "deg = 3\n",
    "input_bd = [0,1]\n",
    "\n",
    "print( design_class(dyadic_sort=True, return_neighbors=True)(deg=deg, input_lb=0, input_ub=1).points )\n",
    "print( design_class(dyadic_sort=True, return_neighbors=True)(deg=deg, input_lb=0, input_ub=1).lefts)\n",
    "print( design_class(dyadic_sort=True, return_neighbors=True)(deg=deg, input_lb=0, input_ub=1).rights )\n",
    "print( design_class(dyadic_sort=True, return_neighbors=True)(deg=deg, input_lb=0, input_ub=1).indices_sort )"
   ],
   "outputs": [
    {
     "name": "stdout",
     "output_type": "stream",
     "text": [
      "tensor([0.5000, 0.2500, 0.7500, 0.1250, 0.3750, 0.6250, 0.8750])\n",
      "tensor([  -inf,   -inf, 0.5000,   -inf, 0.2500, 0.5000, 0.7500])\n",
      "tensor([   inf, 0.5000,    inf, 0.2500, 0.5000, 0.7500,    inf])\n",
      "tensor([3, 1, 5, 0, 2, 4, 6])\n"
     ]
    }
   ],
   "execution_count": 86
  },
  {
   "cell_type": "code",
   "metadata": {
    "ExecuteTime": {
     "end_time": "2024-07-22T21:24:02.665156Z",
     "start_time": "2024-07-22T21:24:02.657297Z"
    }
   },
   "source": [
    "# initial setting\n",
    "d = 2\n",
    "eta = 4\n",
    "input_lb = 0\n",
    "input_ub = 1\n",
    "design_class = HyperbolicCrossDesign\n",
    "\n",
    "# generate sparse grid design\n",
    "sg = SparseGridDesign(d, eta, input_lb=input_lb, input_ub=input_ub, design_class=design_class).gen_sg(dyadic_sort=True, return_neighbors=True)\n",
    "x_tot = sg.pts_tot\n",
    "id_prt = sg.id_prt # use self.tot_pts[ id_x_prt[t_sum, prt], : ] to extract grid points in each smolyak iter\n",
    "pts_prt = sg.pts_prt # use self.pts_prt[t_sum, prt] to extract a d-dimensional list, each entry is one-dim points forming the sgdesign\n",
    "pts_prt_set = sg.pts_prt_set\n",
    "\n",
    "pts_set = sg.pts_set\n",
    "n_pts = sg.n_pts\n",
    "\n",
    "design_str_prt = sg.design_str_prt\n",
    "\n",
    "\n",
    "indices_prt = sg.indices_prt\n",
    "indices_prt_set = sg.indices_prt_set\n",
    "\n",
    "indices_tot = sg.indices_tot\n",
    "indices_set = sg.indices_set\n",
    "print(n_pts)"
   ],
   "outputs": [
    {
     "name": "stdout",
     "output_type": "stream",
     "text": [
      "17\n"
     ]
    }
   ],
   "execution_count": 87
  },
  {
   "cell_type": "code",
   "metadata": {
    "ExecuteTime": {
     "end_time": "2024-07-22T21:22:21.999026Z",
     "start_time": "2024-07-22T21:22:21.995072Z"
    }
   },
   "source": [
    "pts_set"
   ],
   "outputs": [
    {
     "data": {
      "text/plain": [
       "tensor([[0.5000, 0.5000],\n",
       "        [0.5000, 0.2500],\n",
       "        [0.5000, 0.7500],\n",
       "        [0.5000, 0.1250],\n",
       "        [0.5000, 0.3750],\n",
       "        [0.5000, 0.6250],\n",
       "        [0.5000, 0.8750],\n",
       "        [0.2500, 0.5000],\n",
       "        [0.2500, 0.2500],\n",
       "        [0.2500, 0.7500],\n",
       "        [0.7500, 0.5000],\n",
       "        [0.7500, 0.2500],\n",
       "        [0.7500, 0.7500],\n",
       "        [0.1250, 0.5000],\n",
       "        [0.3750, 0.5000],\n",
       "        [0.6250, 0.5000],\n",
       "        [0.8750, 0.5000]])"
      ]
     },
     "execution_count": 4,
     "metadata": {},
     "output_type": "execute_result"
    }
   ],
   "execution_count": 4
  },
  {
   "cell_type": "code",
   "metadata": {
    "ExecuteTime": {
     "end_time": "2024-07-22T21:22:22.003452Z",
     "start_time": "2024-07-22T21:22:22.000521Z"
    }
   },
   "source": [
    "design_str_prt[eta,2][0].points"
   ],
   "outputs": [
    {
     "data": {
      "text/plain": [
       "tensor([0.5000, 0.2500, 0.7500, 0.1250, 0.3750, 0.6250, 0.8750])"
      ]
     },
     "execution_count": 5,
     "metadata": {},
     "output_type": "execute_result"
    }
   ],
   "execution_count": 5
  },
  {
   "cell_type": "code",
   "metadata": {
    "ExecuteTime": {
     "end_time": "2024-07-22T21:22:22.006490Z",
     "start_time": "2024-07-22T21:22:22.004124Z"
    }
   },
   "source": [
    "pts_prt[eta,2]"
   ],
   "outputs": [
    {
     "data": {
      "text/plain": [
       "[tensor([0.5000, 0.2500, 0.7500, 0.1250, 0.3750, 0.6250, 0.8750]),\n",
       " tensor([0.5000])]"
      ]
     },
     "execution_count": 6,
     "metadata": {},
     "output_type": "execute_result"
    }
   ],
   "execution_count": 6
  },
  {
   "cell_type": "code",
   "metadata": {
    "ExecuteTime": {
     "end_time": "2024-07-22T21:22:22.009468Z",
     "start_time": "2024-07-22T21:22:22.007151Z"
    }
   },
   "source": [
    "indices_prt[eta,2]"
   ],
   "outputs": [
    {
     "data": {
      "text/plain": [
       "[tensor([3, 1, 5, 0, 2, 4, 6]), tensor([3])]"
      ]
     },
     "execution_count": 7,
     "metadata": {},
     "output_type": "execute_result"
    }
   ],
   "execution_count": 7
  },
  {
   "cell_type": "code",
   "metadata": {
    "ExecuteTime": {
     "end_time": "2024-07-22T21:22:22.012386Z",
     "start_time": "2024-07-22T21:22:22.010042Z"
    }
   },
   "source": [
    "print(indices_set)\n",
    "\n",
    "indices_select = indices_prt_set[3,1]\n",
    "print(indices_select)"
   ],
   "outputs": [
    {
     "name": "stdout",
     "output_type": "stream",
     "text": [
      "tensor([[3, 3],\n",
      "        [3, 1],\n",
      "        [3, 5],\n",
      "        [3, 0],\n",
      "        [3, 2],\n",
      "        [3, 4],\n",
      "        [3, 6],\n",
      "        [1, 3],\n",
      "        [1, 1],\n",
      "        [1, 5],\n",
      "        [5, 3],\n",
      "        [5, 1],\n",
      "        [5, 5],\n",
      "        [0, 3],\n",
      "        [2, 3],\n",
      "        [4, 3],\n",
      "        [6, 3]])\n",
      "tensor([[3, 3],\n",
      "        [1, 3],\n",
      "        [5, 3]])\n"
     ]
    }
   ],
   "execution_count": 8
  },
  {
   "cell_type": "code",
   "metadata": {
    "ExecuteTime": {
     "end_time": "2024-07-22T21:22:22.016190Z",
     "start_time": "2024-07-22T21:22:22.013061Z"
    }
   },
   "source": [
    "list_full = [tuple(l) for l in indices_set.tolist()] # [n_u, d] size list of tuple\n",
    "list_select = [tuple(l) for l in indices_select.tolist()] # [n_arrow, d] size list of tuple\n",
    "\n",
    "index_dict = dict((value, idx) for idx,value in enumerate(list_full))\n",
    "index_select = torch.tensor( [index_dict[x] for x in list_select] )\n",
    "index_select"
   ],
   "outputs": [
    {
     "data": {
      "text/plain": [
       "tensor([ 0,  7, 10])"
      ]
     },
     "execution_count": 9,
     "metadata": {},
     "output_type": "execute_result"
    }
   ],
   "execution_count": 9
  },
  {
   "cell_type": "code",
   "metadata": {
    "ExecuteTime": {
     "end_time": "2024-07-22T21:22:22.020371Z",
     "start_time": "2024-07-22T21:22:22.016880Z"
    }
   },
   "source": [
    "i = torch.tensor([[0, 1, 2, 0],\n",
    "                   [1, 1, 0, 2]])\n",
    "v = torch.tensor([1, 2, 3, 4], dtype=float)\n",
    "sp_test = torch.sparse_coo_tensor(i, v, [5, 5])\n",
    "a = torch.randn((5,5), dtype=float)\n",
    "print(a)\n",
    "print(sp_test)\n",
    "print(sp_test @ a)"
   ],
   "outputs": [
    {
     "name": "stdout",
     "output_type": "stream",
     "text": [
      "tensor([[-2.1324, -1.6465, -1.7098,  1.8269,  1.1479],\n",
      "        [ 0.7757, -0.2311, -0.0401, -0.8392,  0.4454],\n",
      "        [-0.3340, -0.0328,  2.2144,  0.5889, -0.3837],\n",
      "        [ 0.3290, -0.4067, -1.4507,  0.3523, -1.8992],\n",
      "        [-1.3324, -1.2699, -0.3461, -0.2492, -0.6717]], dtype=torch.float64)\n",
      "tensor(indices=tensor([[0, 1, 2, 0],\n",
      "                       [1, 1, 0, 2]]),\n",
      "       values=tensor([1., 2., 3., 4.]),\n",
      "       size=(5, 5), nnz=4, dtype=torch.float64, layout=torch.sparse_coo)\n",
      "tensor([[-0.5604, -0.3622,  8.8174,  1.5163, -1.0893],\n",
      "        [ 1.5515, -0.4622, -0.0803, -1.6783,  0.8908],\n",
      "        [-6.3971, -4.9394, -5.1293,  5.4806,  3.4437],\n",
      "        [ 0.0000,  0.0000,  0.0000,  0.0000,  0.0000],\n",
      "        [ 0.0000,  0.0000,  0.0000,  0.0000,  0.0000]], dtype=torch.float64)\n"
     ]
    }
   ],
   "execution_count": 10
  },
  {
   "cell_type": "code",
   "metadata": {
    "ExecuteTime": {
     "end_time": "2024-07-22T21:22:22.023437Z",
     "start_time": "2024-07-22T21:22:22.021145Z"
    }
   },
   "source": [
    "sp_id = sp_test._indices().T\n",
    "print(sp_id)\n",
    "print(index_select)"
   ],
   "outputs": [
    {
     "name": "stdout",
     "output_type": "stream",
     "text": [
      "tensor([[0, 1],\n",
      "        [1, 1],\n",
      "        [2, 0],\n",
      "        [0, 2]])\n",
      "tensor([ 0,  7, 10])\n"
     ]
    }
   ],
   "execution_count": 11
  },
  {
   "cell_type": "code",
   "metadata": {
    "ExecuteTime": {
     "end_time": "2024-07-22T21:22:22.026307Z",
     "start_time": "2024-07-22T21:22:22.024097Z"
    }
   },
   "source": [
    "index_select[sp_id]"
   ],
   "outputs": [
    {
     "data": {
      "text/plain": [
       "tensor([[ 0,  7],\n",
       "        [ 7,  7],\n",
       "        [10,  0],\n",
       "        [ 0, 10]])"
      ]
     },
     "execution_count": 12,
     "metadata": {},
     "output_type": "execute_result"
    }
   ],
   "execution_count": 12
  },
  {
   "metadata": {
    "ExecuteTime": {
     "end_time": "2024-07-22T21:22:23.739218Z",
     "start_time": "2024-07-22T21:22:23.735795Z"
    }
   },
   "cell_type": "code",
   "source": [
    "sp_test_new = torch.sparse_coo_tensor(index_select[sp_test._indices()], sp_test._values(), [17, 17])\n",
    "sp_test_new"
   ],
   "outputs": [
    {
     "data": {
      "text/plain": [
       "tensor(indices=tensor([[ 0,  7, 10,  0],\n",
       "                       [ 7,  7,  0, 10]]),\n",
       "       values=tensor([1., 2., 3., 4.]),\n",
       "       size=(17, 17), nnz=4, dtype=torch.float64, layout=torch.sparse_coo)"
      ]
     },
     "execution_count": 84,
     "metadata": {},
     "output_type": "execute_result"
    }
   ],
   "execution_count": 84
  }
 ],
 "metadata": {
  "kernelspec": {
   "display_name": "env_sparse-dgp",
   "language": "python",
   "name": "python3"
  },
  "language_info": {
   "codemirror_mode": {
    "name": "ipython",
    "version": 3
   },
   "file_extension": ".py",
   "mimetype": "text/x-python",
   "name": "python",
   "nbconvert_exporter": "python",
   "pygments_lexer": "ipython3",
   "version": "3.9.18"
  }
 },
 "nbformat": 4,
 "nbformat_minor": 2
}
